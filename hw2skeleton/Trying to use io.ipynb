{
 "cells": [
  {
   "cell_type": "code",
   "execution_count": 1,
   "metadata": {},
   "outputs": [],
   "source": [
    "# Some utility classes to represent a PDB structure\n",
    "\n",
    "class Atom:\n",
    "    \"\"\"\n",
    "    A simple class for an amino acid residue\n",
    "    \"\"\"\n",
    "\n",
    "    def __init__(self, type):\n",
    "        self.type = type\n",
    "        self.coords = (0.0, 0.0, 0.0)\n",
    "\n",
    "    # Overload the __repr__ operator to make printing simpler.\n",
    "    def __repr__(self):\n",
    "        return self.type\n",
    "    #for the atoms we can determine their coordinates!\n",
    "\n",
    "class Residue:\n",
    "    \"\"\"\n",
    "    A simple class for an amino acid residue\n",
    "    \"\"\"\n",
    "\n",
    "    def __init__(self, type, number):\n",
    "        self.type = type\n",
    "        self.number = number\n",
    "        self.atoms = []\n",
    "\n",
    "    # Overload the __repr__ operator to make printing simpler.\n",
    "    def __repr__(self):\n",
    "        return \"{0} {1}\".format(self.type, self.number)\n",
    "    #here we take the active site's residues and can sub classify it by the type, number of residues, an the atoms \n",
    "    #making up residues\n",
    "\n",
    "class ActiveSite:\n",
    "    \"\"\"\n",
    "    A simple class for an active site\n",
    "    \"\"\"\n",
    "\n",
    "    def __init__(self, name):\n",
    "        self.name = name\n",
    "        self.residues = []\n",
    "\n",
    "    # Overload the __repr__ operator to make printing simpler.\n",
    "    def __repr__(self):\n",
    "        return self.name\n",
    "    #basically, you start with a pdb file that's an active site. Then this active site becomes the referenced point, under which there are \n",
    "    #different sub classes we can reference next. Here we reference the active site residues!"
   ]
  },
  {
   "cell_type": "code",
   "execution_count": 2,
   "metadata": {},
   "outputs": [],
   "source": [
    "import glob\n",
    "import os\n",
    "#deleted referencing utils\n",
    "\n",
    "\n",
    "def read_active_sites(dir):\n",
    "    \"\"\"\n",
    "    Read in all of the active sites from the given directory.\n",
    "    Input: directory\n",
    "    Output: list of ActiveSite instances\n",
    "    \"\"\"\n",
    "    files = glob.glob(dir + '/*.pdb')\n",
    "\n",
    "    active_sites = []\n",
    "    # iterate over each .pdb file in the given directory\n",
    "    for filepath in glob.iglob(os.path.join(dir, \"*.pdb\")):\n",
    "\n",
    "        active_sites.append(read_active_site(filepath))\n",
    "\n",
    "    print(\"Read in %d active sites\"%len(active_sites))\n",
    "\n",
    "    return active_sites\n",
    "\n",
    "\n",
    "def read_active_site(filepath):\n",
    "    \"\"\"\n",
    "    Read in a single active site given a PDB file\n",
    "    Input: PDB file path\n",
    "    Output: ActiveSite instance\n",
    "    \"\"\"\n",
    "    basename = os.path.basename(filepath)\n",
    "    name = os.path.splitext(basename)\n",
    "\n",
    "    if name[1] != \".pdb\":\n",
    "        raise IOError(\"%s is not a PDB file\"%filepath)\n",
    "\n",
    "    active_site = ActiveSite(name[0])\n",
    "\n",
    "    r_num = 0\n",
    "\n",
    "    # open pdb file\n",
    "    with open(filepath, \"r\") as f:\n",
    "        # iterate over each line in the file\n",
    "        for line in f:\n",
    "            if line[0:3] != 'TER':\n",
    "                # read in an atom\n",
    "                atom_type = line[13:17].strip()\n",
    "                x_coord = float(line[30:38])\n",
    "                y_coord = float(line[38:46])\n",
    "                z_coord = float(line[46:54])\n",
    "                atom = Atom(atom_type)\n",
    "                atom.coords = (x_coord, y_coord, z_coord)\n",
    "\n",
    "                residue_type = line[17:20]\n",
    "                residue_number = int(line[23:26])\n",
    "\n",
    "                # make a new residue if needed\n",
    "                if residue_number != r_num:\n",
    "                    residue = Residue(residue_type, residue_number)\n",
    "                    r_num = residue_number\n",
    "\n",
    "                # add the atom to the residue\n",
    "                residue.atoms.append(atom)\n",
    "\n",
    "            else:  # I've reached a TER card\n",
    "                active_site.residues.append(residue)\n",
    "\n",
    "    return active_site\n",
    "\n",
    "\n",
    "def write_clustering(filename, clusters):\n",
    "    \"\"\"\n",
    "    Write the clustered ActiveSite instances out to a file.\n",
    "    Input: a filename and a clustering of ActiveSite instances\n",
    "    Output: none\n",
    "    \"\"\"\n",
    "\n",
    "    out = open(filename, 'w')\n",
    "\n",
    "    for i in range(len(clusters)):\n",
    "        out.write(\"\\nCluster %d\\n--------------\\n\" % i)\n",
    "        for j in range(len(clusters[i])):\n",
    "            out.write(\"%s\\n\" % clusters[i][j])\n",
    "\n",
    "    out.close()\n",
    "\n",
    "\n",
    "def write_mult_clusterings(filename, clusterings):\n",
    "    \"\"\"\n",
    "    Write a series of clusterings of ActiveSite instances out to a file.\n",
    "    Input: a filename and a list of clusterings of ActiveSite instances\n",
    "    Output: none\n",
    "    \"\"\"\n",
    "\n",
    "    out = open(filename, 'w')\n",
    "\n",
    "    for i in range(len(clusterings)):\n",
    "        clusters = clusterings[i]\n",
    "\n",
    "        for j in range(len(clusters)):\n",
    "            out.write(\"\\nCluster %d\\n------------\\n\" % j)\n",
    "            for k in range(len(clusters[j])):\n",
    "                out.write(\"%s\\n\" % clusters[j][k])\n",
    "\n",
    "    out.close()"
   ]
  },
  {
   "cell_type": "code",
   "execution_count": 3,
   "metadata": {},
   "outputs": [],
   "source": [
    "pdb_data_path = \"/Users/lcech/BMI203/hw2-skeleton/data/\"\n",
    "#this is making the pathname a variable that we can call later on\""
   ]
  },
  {
   "cell_type": "code",
   "execution_count": 4,
   "metadata": {},
   "outputs": [
    {
     "name": "stdout",
     "output_type": "stream",
     "text": [
      "Read in 136 active sites\n"
     ]
    }
   ],
   "source": [
    "active_site_list = read_active_sites(pdb_data_path)\n",
    "#test is a list of active sites that occur in our path"
   ]
  },
  {
   "cell_type": "code",
   "execution_count": 5,
   "metadata": {},
   "outputs": [
    {
     "data": {
      "text/plain": [
       "136"
      ]
     },
     "execution_count": 5,
     "metadata": {},
     "output_type": "execute_result"
    }
   ],
   "source": [
    "len(active_site_list)\n",
    "#there are 136 active sites!"
   ]
  },
  {
   "cell_type": "code",
   "execution_count": 6,
   "metadata": {},
   "outputs": [
    {
     "data": {
      "text/plain": [
       "46495"
      ]
     },
     "execution_count": 6,
     "metadata": {},
     "output_type": "execute_result"
    }
   ],
   "source": [
    "first_active_site = active_site_list[0]\n",
    "first_active_site\n",
    "#we are calling this new variable as the first active site in the active_site_list \n",
    "#not very informative name!"
   ]
  },
  {
   "cell_type": "code",
   "execution_count": 24,
   "metadata": {},
   "outputs": [
    {
     "data": {
      "text/plain": [
       "[ASP 165, ASP 167, SER 211, ARG 213, ASP 254, LYS 258, ASP 278]"
      ]
     },
     "execution_count": 24,
     "metadata": {},
     "output_type": "execute_result"
    }
   ],
   "source": [
    "first_active_site.residues\n"
   ]
  },
  {
   "cell_type": "code",
   "execution_count": 7,
   "metadata": {},
   "outputs": [
    {
     "data": {
      "text/plain": [
       "'46495'"
      ]
     },
     "execution_count": 7,
     "metadata": {},
     "output_type": "execute_result"
    }
   ],
   "source": [
    "first_active_site.name\n",
    "#still not informative"
   ]
  },
  {
   "cell_type": "code",
   "execution_count": 8,
   "metadata": {},
   "outputs": [
    {
     "data": {
      "text/plain": [
       "[ASP 165, ASP 167, SER 211, ARG 213, ASP 254, LYS 258, ASP 278]"
      ]
     },
     "execution_count": 8,
     "metadata": {},
     "output_type": "execute_result"
    }
   ],
   "source": [
    "first_active_site.residues\n",
    "#now we can reference information contained in the variable"
   ]
  },
  {
   "cell_type": "code",
   "execution_count": 9,
   "metadata": {},
   "outputs": [
    {
     "data": {
      "text/plain": [
       "list"
      ]
     },
     "execution_count": 9,
     "metadata": {},
     "output_type": "execute_result"
    }
   ],
   "source": [
    "type(first_active_site.residues)\n",
    "#this residue information is a list, which is ordered from [0:?] that we can reference later on"
   ]
  },
  {
   "cell_type": "code",
   "execution_count": 10,
   "metadata": {},
   "outputs": [
    {
     "data": {
      "text/plain": [
       "[N, CA, C, O, CB, CG, OD1, OD2]"
      ]
     },
     "execution_count": 10,
     "metadata": {},
     "output_type": "execute_result"
    }
   ],
   "source": [
    "first_active_site.residues[0].atoms\n",
    "#we now reference the first residue that makes up the first active site, and we can see which atoms make it up"
   ]
  },
  {
   "cell_type": "code",
   "execution_count": 11,
   "metadata": {},
   "outputs": [
    {
     "data": {
      "text/plain": [
       "list"
      ]
     },
     "execution_count": 11,
     "metadata": {},
     "output_type": "execute_result"
    }
   ],
   "source": [
    "type(first_active_site.residues[0].atoms)\n",
    "#this is also a list, which we can reference within again!"
   ]
  },
  {
   "cell_type": "code",
   "execution_count": 12,
   "metadata": {},
   "outputs": [
    {
     "data": {
      "text/plain": [
       "(41.692, 10.964, 19.961)"
      ]
     },
     "execution_count": 12,
     "metadata": {},
     "output_type": "execute_result"
    }
   ],
   "source": [
    "first_active_site.residues[0].atoms[0].coords\n",
    "#for that first atom, N, we can determine its coordinates"
   ]
  },
  {
   "cell_type": "code",
   "execution_count": 13,
   "metadata": {},
   "outputs": [
    {
     "data": {
      "text/plain": [
       "[SER 39, GLU 211, ASP 246, GLU 295, ASP 320, LYS 345]"
      ]
     },
     "execution_count": 13,
     "metadata": {},
     "output_type": "execute_result"
    }
   ],
   "source": [
    "#lets check out the second one\n",
    "second_active_site = active_site_list[1]\n",
    "second_active_site.residues\n"
   ]
  },
  {
   "cell_type": "code",
   "execution_count": 14,
   "metadata": {},
   "outputs": [
    {
     "data": {
      "text/plain": [
       "6"
      ]
     },
     "execution_count": 14,
     "metadata": {},
     "output_type": "execute_result"
    }
   ],
   "source": [
    "len(second_active_site.residues)"
   ]
  },
  {
   "cell_type": "code",
   "execution_count": 15,
   "metadata": {},
   "outputs": [],
   "source": [
    "#lets check out the next io function \"read_active_site\" which is for a single active site pdb file"
   ]
  },
  {
   "cell_type": "code",
   "execution_count": 16,
   "metadata": {},
   "outputs": [],
   "source": [
    "pdb_file_path = \"/Users/lcech/BMI203/hw2-skeleton/data/46495.pdb\""
   ]
  },
  {
   "cell_type": "code",
   "execution_count": 17,
   "metadata": {},
   "outputs": [],
   "source": [
    "active_site_46495 = read_active_site(pdb_file_path)"
   ]
  },
  {
   "cell_type": "code",
   "execution_count": 18,
   "metadata": {},
   "outputs": [
    {
     "data": {
      "text/plain": [
       "__main__.ActiveSite"
      ]
     },
     "execution_count": 18,
     "metadata": {},
     "output_type": "execute_result"
    }
   ],
   "source": [
    "type(active_site_46495)\n",
    "#out : __main__.ActiveSite"
   ]
  },
  {
   "cell_type": "code",
   "execution_count": 19,
   "metadata": {},
   "outputs": [
    {
     "data": {
      "text/plain": [
       "'46495'"
      ]
     },
     "execution_count": 19,
     "metadata": {},
     "output_type": "execute_result"
    }
   ],
   "source": [
    "active_site_46495.name\n"
   ]
  },
  {
   "cell_type": "code",
   "execution_count": 20,
   "metadata": {},
   "outputs": [
    {
     "data": {
      "text/plain": [
       "[ASP 165, ASP 167, SER 211, ARG 213, ASP 254, LYS 258, ASP 278]"
      ]
     },
     "execution_count": 20,
     "metadata": {},
     "output_type": "execute_result"
    }
   ],
   "source": [
    "active_site_46495.residues\n"
   ]
  },
  {
   "cell_type": "code",
   "execution_count": 21,
   "metadata": {},
   "outputs": [
    {
     "data": {
      "text/plain": [
       "'ASP'"
      ]
     },
     "execution_count": 21,
     "metadata": {},
     "output_type": "execute_result"
    }
   ],
   "source": [
    "active_site_46495.residues[0].type"
   ]
  },
  {
   "cell_type": "code",
   "execution_count": 22,
   "metadata": {
    "scrolled": true
   },
   "outputs": [
    {
     "data": {
      "text/plain": [
       "[N, CA, C, O, CB, CG, OD1, OD2]"
      ]
     },
     "execution_count": 22,
     "metadata": {},
     "output_type": "execute_result"
    }
   ],
   "source": [
    "active_site_46495.residues[0].atoms"
   ]
  },
  {
   "cell_type": "code",
   "execution_count": 23,
   "metadata": {
    "scrolled": false
   },
   "outputs": [
    {
     "data": {
      "text/plain": [
       "(41.692, 10.964, 19.961)"
      ]
     },
     "execution_count": 23,
     "metadata": {},
     "output_type": "execute_result"
    }
   ],
   "source": [
    "active_site_46495.residues[0].atoms[0].coords"
   ]
  },
  {
   "cell_type": "code",
   "execution_count": null,
   "metadata": {},
   "outputs": [],
   "source": [
    "#this method also gives us the same information"
   ]
  },
  {
   "cell_type": "code",
   "execution_count": null,
   "metadata": {},
   "outputs": [],
   "source": []
  },
  {
   "cell_type": "code",
   "execution_count": null,
   "metadata": {},
   "outputs": [],
   "source": []
  }
 ],
 "metadata": {
  "kernelspec": {
   "display_name": "Python 3",
   "language": "python",
   "name": "python3"
  },
  "language_info": {
   "codemirror_mode": {
    "name": "ipython",
    "version": 3
   },
   "file_extension": ".py",
   "mimetype": "text/x-python",
   "name": "python",
   "nbconvert_exporter": "python",
   "pygments_lexer": "ipython3",
   "version": "3.7.3"
  }
 },
 "nbformat": 4,
 "nbformat_minor": 2
}
